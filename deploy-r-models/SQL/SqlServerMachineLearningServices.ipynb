
{
    "metadata": {
        "kernelspec": {
            "name": "SQL",
            "display_name": "SQL",
            "language": "sql"
        },
        "language_info": {
            "name": "sql",
            "version": ""
        }
    },
    "nbformat_minor": 2,
    "nbformat": 4,
    "cells": [
        {
            "cell_type": "markdown",
            "source": [
                "# SQL Server / SQL Database Machine Learning Service\n",
                "## Create **Motor Trend Car Road Tests** Table"
            ],
            "metadata": {
                "azdata_cell_guid": "bcabc77a-a2c2-4cc8-8b2d-059b7a167cbb"
            }
        },
        {
            "cell_type": "code",
            "source": [
                "DROP TABLE IF EXISTS [dbo].[MotorTrendCarRoadTests]\n",
                "GO\n",
                "CREATE TABLE [dbo].[MotorTrendCarRoadTests] (\n",
                "    [mpg] FLOAT NOT NULL     -- Miles/(US) gallon\n",
                "    , [cyl] INT NOT NULL     -- Number of cylinders\n",
                "    , [hp] FLOAT NOT NULL    -- Gross horsepower\n",
                "    , [disp] FLOAT NOT NULL  -- Displacement (cu.in.)\n",
                "    , [drat] FLOAT NOT NULL  -- Rear axle ratio\n",