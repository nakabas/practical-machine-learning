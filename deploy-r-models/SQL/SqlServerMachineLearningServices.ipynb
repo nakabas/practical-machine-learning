
{
    "metadata": {
        "kernelspec": {
            "name": "SQL",
            "display_name": "SQL",
            "language": "sql"
        },
        "language_info": {
            "name": "sql",
            "version": ""
        }
    },
    "nbformat_minor": 2,
    "nbformat": 4,
    "cells": [
        {
            "cell_type": "markdown",
            "source": [
                "# SQL Server / SQL Database Machine Learning Service\n",
                "## Create **Motor Trend Car Road Tests** Table"
            ],
            "metadata": {
                "azdata_cell_guid": "bcabc77a-a2c2-4cc8-8b2d-059b7a167cbb"
            }
        },
        {
            "cell_type": "code",
            "source": [
                "DROP TABLE IF EXISTS [dbo].[MotorTrendCarRoadTests]\n",
                "GO\n",
                "CREATE TABLE [dbo].[MotorTrendCarRoadTests] (\n",
                "    [mpg] FLOAT NOT NULL     -- Miles/(US) gallon\n",
                "    , [cyl] INT NOT NULL     -- Number of cylinders\n",
                "    , [hp] FLOAT NOT NULL    -- Gross horsepower\n",
                "    , [disp] FLOAT NOT NULL  -- Displacement (cu.in.)\n",
                "    , [drat] FLOAT NOT NULL  -- Rear axle ratio\n",
                "    , [wt] FLOAT NOT NULL    -- Weight (1000 lbs)\n",
                "    , [qsec] FLOAT NOT NULL  -- 1/4 mile time\n",
                "    , [vs] INT NOT NULL      -- Engine (0 = V-shaped, 1 = straight)\n",
                "    , [am] INT NOT NULL      -- Transmission (0 = automatic, 1 = manual)\n",
                "    , [gear] INT NOT NULL    -- Number of forward gears\n",
                "    , [carb] INT NOT NULL    -- Number of carburetors\n",
                ");"
            ],
            "metadata": {
                "azdata_cell_guid": "da6d1284-aca7-4bc4-b17c-51a9745412e2"
            },
            "outputs": [],
            "execution_count": 20
        },
        {
            "cell_type": "markdown",
            "source": [
                "## Import data from R dataset"
            ],
            "metadata": {
                "azdata_cell_guid": "a0e0b573-7c12-48b2-83bd-31fb527a6736"
            }
        },
        {
            "cell_type": "code",
            "source": [
                "INSERT INTO dbo.MotorTrendCarRoadTests\n",
                "EXEC sp_execute_external_script\n",
                "        @language = N'R'\n",
                "        , @script = N'motor_trend_car_road_tests <- mtcars;'\n",
                "        , @input_data_1 = N''\n",
                "        , @output_data_1_name = N'motor_trend_car_road_tests'"
            ],
            "metadata": {
                "azdata_cell_guid": "8e1175e0-fbc3-4d80-9e84-a51c5c8cc165"
            },
            "outputs": [],
            "execution_count": 21
        },
        {
            "cell_type": "markdown",
            "source": [
                "## Train & Save Model\n",
                "### Create the *Training* Stored Procedure \n",
                "Creating a stored procedure to train a Logistic Regression Model"
            ],
            "metadata": {
                "azdata_cell_guid": "2f67f8d2-9092-4400-9edd-438424845655"
            }
        },
        {
            "cell_type": "code",
            "source": [
                "DROP PROCEDURE IF EXISTS dbo.train_manual_transmission_model_v1;\n",
                "GO\n",
                "CREATE PROCEDURE dbo.train_manual_transmission_model_v1\n",
                "(   \n",
                "    @model_name nvarchar(30) OUTPUT\n",
                "    , @model_version int OUTPUT\n",
                "    , @trained_model varbinary(max) OUTPUT\n",
                ")\n",
                "AS\n",
                "BEGIN\n",
                "    EXEC sp_execute_external_script\n",
                "    @language = N'R'\n",
                "    , @script = N'\n",
                "        lr_model <- glm(formula = am ~ hp + wt, data = MotorTrendCarRoadTests, family = binomial);\n",
                "\n",
                "        trained_model <- as.raw(serialize(lr_model, connection=NULL));\n",
                "        model_name <- \"manual_transmission_model\";\n",
                "        model_version <- as.integer(1);\n",
                "    '\n",
                "    , @input_data_1 = N'SELECT [hp], [wt], [am] FROM MotorTrendCarRoadTests'\n",
                "    , @input_data_1_name = N'MotorTrendCarRoadTests'\n",
                "    , @params = N'@model_name nvarchar(30) OUTPUT, @model_version int OUTPUT, @trained_model varbinary(max) OUTPUT'\n",
                "\t, @model_name = @model_name OUTPUT\n",
                "    , @model_version = @model_version OUTPUT\n",
                "    , @trained_model = @trained_model OUTPUT;\n",
                "END;"
            ],
            "metadata": {
                "azdata_cell_guid": "b97d4e31-c2db-4bdc-a16f-835130b50bed"
            },
            "outputs": [],
            "execution_count": 22
        },
        {
            "cell_type": "markdown",
            "source": [
                "### Using RevoScaleR"
            ],
            "metadata": {
                "azdata_cell_guid": "2f02c6c1-048d-4674-918e-68297073b220"
            }
        },
        {
            "cell_type": "code",
            "source": [
                "DROP PROCEDURE IF EXISTS dbo.train_manual_transmission_model_v2;\n",
                "GO\n",
                "CREATE PROCEDURE dbo.train_manual_transmission_model_v2\n",
                "(   \n",
                "    @model_name nvarchar(30) OUTPUT\n",
                "    , @model_version int OUTPUT\n",
                "    , @trained_model varbinary(max) OUTPUT\n",
                ")\n",
                "AS\n",
                "BEGIN\n",
                "    EXEC sp_execute_external_script\n",
                "    @language = N'R'\n",
                "    , @script = N'\n",
                "        require(\"RevoScaleR\");\n",
                "\n",
                "        lr_model <- rxLogit(formula = am ~ hp + wt, data = MotorTrendCarRoadTests);\n",
                "\n",
                "        trained_model <- rxSerializeModel(lr_model, realtimeScoringOnly = TRUE);\n",
                "        model_name <- \"manual_transmission_model\";\n",
                "        model_version <- as.integer(2);\n",
                "    '\n",
                "    , @input_data_1 = N'SELECT [hp], [wt], [am] FROM MotorTrendCarRoadTests'\n",
                "    , @input_data_1_name = N'MotorTrendCarRoadTests'\n",
                "    , @params = N'@model_name nvarchar(30) OUTPUT, @model_version int OUTPUT, @trained_model varbinary(max) OUTPUT'\n",
                "\t, @model_name = @model_name OUTPUT\n",
                "    , @model_version = @model_version OUTPUT\n",
                "    , @trained_model = @trained_model OUTPUT;\n",
                "END;"
            ],
            "metadata": {
                "azdata_cell_guid": "0341afd8-b797-4bcc-a38e-d91f02af8f7d"
            },
            "outputs": [],
            "execution_count": 23
        },
        {
            "cell_type": "markdown",
            "source": [
                "### Create a table for the machine learning models"
            ],
            "metadata": {
                "azdata_cell_guid": "0e736e33-12d5-4748-89e3-74f22e616144"
            }
        },
        {
            "cell_type": "code",
            "source": [
                "DROP TABLE IF EXISTS [dbo].[MachineLearningModels]\n",
                "GO\n",
                "CREATE TABLE [dbo].[MachineLearningModels] (\n",
                "    model_name nvarchar(30) not null default('default model')\n",
                "    , model_version int not null default(1)\n",
                "    , model varbinary(max) not null\n",
                "    , created_on datetime not null default(getdate())\n",
                "    , last_updated_on datetime not null default(getdate())\n",
                "    CONSTRAINT PK_MachineLearningModels PRIMARY KEY (model_name, model_version)\t\n",
                ");"
            ],
            "metadata": {
                "azdata_cell_guid": "ad46d379-73b6-40bc-9f69-2e814d31e60e",
                "tags": []
            },
            "outputs": [],
            "execution_count": 24
        },
        {
            "cell_type": "markdown",
            "source": [
                "### Train & Save Regression Model"
            ],
            "metadata": {
                "azdata_cell_guid": "7ff3da54-e027-4a58-b7d1-1a6cc0015b39"
            }
        },
        {
            "cell_type": "code",
            "source": [
                "DECLARE @model_name NVARCHAR(30), @model_version INT, @model VARBINARY(MAX);\n",
                "\n",
                "EXEC dbo.train_manual_transmission_model_v1 @model_name OUTPUT, @model_version OUTPUT, @model OUTPUT;\n",
                "\n",
                "DELETE\n",
                "FROM    [dbo].[MachineLearningModels] \n",
                "WHERE   model_name = @model_name\n",
                "AND     model_version = @model_version;\n",
                "\n",
                "INSERT\n",
                "INTO    [dbo].[MachineLearningModels] \n",
                "        (model_name, model_version, model)\n",
                "VALUES  (@model_name, @model_version, @model);"
            ],
            "metadata": {
                "azdata_cell_guid": "20ebda02-03ed-414a-8117-8111f6f211dc",
                "tags": []
            },
            "outputs": [],
            "execution_count": 25
        },
        {
            "cell_type": "code",
            "source": [
                "DECLARE @model_name NVARCHAR(30), @model_version INT, @model VARBINARY(MAX);\n",
                "\n",
                "EXEC dbo.train_manual_transmission_model_v2 @model_name OUTPUT, @model_version OUTPUT, @model OUTPUT;\n",
                "\n",
                "DELETE\n",
                "FROM    [dbo].[MachineLearningModels] \n",
                "WHERE   model_name = @model_name\n",
                "AND     model_version = @model_version;\n",
                "\n",
                "INSERT\n",
                "INTO    [dbo].[MachineLearningModels] \n",
                "        (model_name, model_version, model)\n",
                "VALUES  (@model_name, @model_version, @model);"