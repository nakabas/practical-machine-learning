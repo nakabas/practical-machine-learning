
{
    "metadata": {
        "kernelspec": {
            "name": "SQL",
            "display_name": "SQL",
            "language": "sql"
        },
        "language_info": {
            "name": "sql",
            "version": ""
        }
    },
    "nbformat_minor": 2,
    "nbformat": 4,
    "cells": [
        {
            "cell_type": "markdown",
            "source": [
                "# SQL Server / SQL Database Machine Learning Service\n",
                "## Create **Motor Trend Car Road Tests** Table"
            ],
            "metadata": {
                "azdata_cell_guid": "bcabc77a-a2c2-4cc8-8b2d-059b7a167cbb"
            }
        },
        {
            "cell_type": "code",
            "source": [
                "DROP TABLE IF EXISTS [dbo].[MotorTrendCarRoadTests]\n",
                "GO\n",
                "CREATE TABLE [dbo].[MotorTrendCarRoadTests] (\n",
                "    [mpg] FLOAT NOT NULL     -- Miles/(US) gallon\n",
                "    , [cyl] INT NOT NULL     -- Number of cylinders\n",
                "    , [hp] FLOAT NOT NULL    -- Gross horsepower\n",
                "    , [disp] FLOAT NOT NULL  -- Displacement (cu.in.)\n",
                "    , [drat] FLOAT NOT NULL  -- Rear axle ratio\n",
                "    , [wt] FLOAT NOT NULL    -- Weight (1000 lbs)\n",
                "    , [qsec] FLOAT NOT NULL  -- 1/4 mile time\n",
                "    , [vs] INT NOT NULL      -- Engine (0 = V-shaped, 1 = straight)\n",
                "    , [am] INT NOT NULL      -- Transmission (0 = automatic, 1 = manual)\n",
                "    , [gear] INT NOT NULL    -- Number of forward gears\n",
                "    , [carb] INT NOT NULL    -- Number of carburetors\n",
                ");"
            ],
            "metadata": {
                "azdata_cell_guid": "da6d1284-aca7-4bc4-b17c-51a9745412e2"
            },
            "outputs": [],
            "execution_count": 20
        },
        {
            "cell_type": "markdown",
            "source": [
                "## Import data from R dataset"
            ],
            "metadata": {
                "azdata_cell_guid": "a0e0b573-7c12-48b2-83bd-31fb527a6736"
            }
        },
        {
            "cell_type": "code",
            "source": [
                "INSERT INTO dbo.MotorTrendCarRoadTests\n",
                "EXEC sp_execute_external_script\n",
                "        @language = N'R'\n",
                "        , @script = N'motor_trend_car_road_tests <- mtcars;'\n",
                "        , @input_data_1 = N''\n",
                "        , @output_data_1_name = N'motor_trend_car_road_tests'"
            ],
            "metadata": {
                "azdata_cell_guid": "8e1175e0-fbc3-4d80-9e84-a51c5c8cc165"